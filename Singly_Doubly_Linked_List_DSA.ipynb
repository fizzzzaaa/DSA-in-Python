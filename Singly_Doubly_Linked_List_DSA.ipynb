{
  "nbformat": 4,
  "nbformat_minor": 0,
  "metadata": {
    "colab": {
      "provenance": [],
      "toc_visible": true,
      "authorship_tag": "ABX9TyMNrApDltMIm0rgteMLW5Xu",
      "include_colab_link": true
    },
    "kernelspec": {
      "name": "python3",
      "display_name": "Python 3"
    },
    "language_info": {
      "name": "python"
    }
  },
  "cells": [
    {
      "cell_type": "markdown",
      "metadata": {
        "id": "view-in-github",
        "colab_type": "text"
      },
      "source": [
        "<a href=\"https://colab.research.google.com/github/fizzzzaaa/DSA-in-Python/blob/main/Singly_Doubly_Linked_List_DSA.ipynb\" target=\"_parent\"><img src=\"https://colab.research.google.com/assets/colab-badge.svg\" alt=\"Open In Colab\"/></a>"
      ]
    },
    {
      "cell_type": "code",
      "execution_count": null,
      "metadata": {
        "id": "PrO3RtccpG6O"
      },
      "outputs": [],
      "source": [
        "class single:\n",
        "\n",
        "       def __init__(self, val, next=None):\n",
        "           self.val = val\n",
        "           self.next = next\n",
        "\n",
        "       def __str__(self):\n",
        "           return str(self.val)"
      ]
    },
    {
      "cell_type": "code",
      "source": [
        "class single:\n",
        "\n",
        "       def __init__(self, val, next=None):\n",
        "           self.val = val\n",
        "           self.next = next\n",
        "\n",
        "       def __str__(self):\n",
        "           return str(self.val)\n",
        "\n",
        "\n",
        "Head = single(9)\n",
        "A = single(2)\n",
        "B = single(3)\n",
        "C = single(4)\n",
        "\n",
        "Head.next = A\n",
        "A.next = B\n",
        "B.next = C\n",
        "print(Head)"
      ],
      "metadata": {
        "colab": {
          "base_uri": "https://localhost:8080/"
        },
        "id": "Qv0XwOHOp8K6",
        "outputId": "48cf5c53-96a7-43f9-cfaa-09000b45e25e"
      },
      "execution_count": null,
      "outputs": [
        {
          "output_type": "stream",
          "name": "stdout",
          "text": [
            "9\n"
          ]
        }
      ]
    },
    {
      "cell_type": "code",
      "source": [
        "curr=Head\n",
        "while curr:\n",
        "  print(curr)\n",
        "  curr=curr.next"
      ],
      "metadata": {
        "colab": {
          "base_uri": "https://localhost:8080/"
        },
        "id": "l5VTD3g7qFmK",
        "outputId": "1b421cf2-a76c-42b9-88bc-b9fe787593b1"
      },
      "execution_count": null,
      "outputs": [
        {
          "output_type": "stream",
          "name": "stdout",
          "text": [
            "9\n",
            "2\n",
            "3\n",
            "4\n"
          ]
        }
      ]
    },
    {
      "cell_type": "code",
      "source": [
        "def display(Head):\n",
        "  curr=Head\n",
        "  elements=[]\n",
        "  while curr:\n",
        "    elements.append(str(curr.val))\n",
        "    curr=curr.next\n",
        "  print(\" -> \".join(elements))\n",
        "display(Head)"
      ],
      "metadata": {
        "colab": {
          "base_uri": "https://localhost:8080/"
        },
        "id": "ti-4RRGcsbp_",
        "outputId": "88d9f323-2541-45dc-8f63-990e4f1443de"
      },
      "execution_count": null,
      "outputs": [
        {
          "output_type": "stream",
          "name": "stdout",
          "text": [
            "9 -> 2 -> 3 -> 4\n"
          ]
        }
      ]
    },
    {
      "cell_type": "code",
      "source": [
        "def search(head, val):\n",
        "  curr=head\n",
        "  while curr:\n",
        "    if curr.val==val:\n",
        "      return True\n",
        "    curr=curr.next\n",
        "  return False\n",
        "print(search(Head, 3))"
      ],
      "metadata": {
        "colab": {
          "base_uri": "https://localhost:8080/"
        },
        "id": "3XJ6PLqEuCjX",
        "outputId": "2994c7b1-c1bc-4e99-9363-fa8f2edd4cbc"
      },
      "execution_count": null,
      "outputs": [
        {
          "output_type": "stream",
          "name": "stdout",
          "text": [
            "True\n"
          ]
        }
      ]
    },
    {
      "cell_type": "code",
      "source": [
        "class doublyLL:\n",
        "  def __init__(self, val, next=None, prev=None): # Changed _init_ to __init__\n",
        "    self.val=val\n",
        "    self.next=next\n",
        "    self.prev=prev\n",
        "  def __str__(self): # Changed _str_ to __str__ for proper string representation\n",
        "    return str(self.val)"
      ],
      "metadata": {
        "id": "jlqkmzPfus4j"
      },
      "execution_count": null,
      "outputs": []
    },
    {
      "cell_type": "code",
      "source": [
        "head=tail=doublyLL(1)\n",
        "print(tail)"
      ],
      "metadata": {
        "colab": {
          "base_uri": "https://localhost:8080/"
        },
        "id": "zt0xVTDDu7aV",
        "outputId": "4b31085c-4bbe-425f-f969-95db1b2f1f5e"
      },
      "execution_count": null,
      "outputs": [
        {
          "output_type": "stream",
          "name": "stdout",
          "text": [
            "1\n"
          ]
        }
      ]
    },
    {
      "cell_type": "code",
      "source": [
        "def display(head):\n",
        "  curr=head\n",
        "  elements=[] # elements is defined within the function scope\n",
        "  while curr:\n",
        "    elements.append(str(curr.val))\n",
        "    curr=curr.next\n",
        "  print(' -> '.join(elements)) # This line is now inside the function\n",
        "\n",
        "display(head) # Calling the function"
      ],
      "metadata": {
        "colab": {
          "base_uri": "https://localhost:8080/"
        },
        "id": "bYfivtqNvOvR",
        "outputId": "e849bd80-4f3f-4a2d-e671-531500a1fde8"
      },
      "execution_count": null,
      "outputs": [
        {
          "output_type": "stream",
          "name": "stdout",
          "text": [
            "1\n"
          ]
        }
      ]
    },
    {
      "cell_type": "code",
      "source": [
        "def insert(head, tail, val):\n",
        "  new_node=doublyLL(val, next=head)\n",
        "  head.prev=new_node\n",
        "  return new_node, tail\n",
        "head, tail=insert(head, tail, 3)\n",
        "display(head)"
      ],
      "metadata": {
        "colab": {
          "base_uri": "https://localhost:8080/"
        },
        "id": "PaxlX3dsvbiS",
        "outputId": "27aadfc1-e367-468b-f8d5-5c7a7c193d4e"
      },
      "execution_count": null,
      "outputs": [
        {
          "output_type": "stream",
          "name": "stdout",
          "text": [
            "3 -> 1\n"
          ]
        }
      ]
    }
  ]
}